{
 "cells": [
  {
   "cell_type": "code",
   "execution_count": 56,
   "id": "a8a474ab",
   "metadata": {},
   "outputs": [],
   "source": [
    "#cv2 is open-source library for the computer vision, machine learning, and image processing \n",
    "import cv2 \n",
    "#NumPy is a basic level external library in Python used for complex mathematical operations\n",
    "import numpy as np\n",
    "#Matplotlib is a comprehensive library for creating static, animated, and interactive visualizations in Python.\n",
    "from matplotlib import pyplot as plt\n",
    "#Imutils are a series of convenience functions to make basic image processing functions such as translation, rotation,\n",
    "#resizing, skeletonization, and displaying Matplotlib images\n",
    "import imutils\n",
    "#EasyOCR is a python package that allows the image to be converted to text\n",
    "import easyocr"
   ]
  },
  {
   "cell_type": "code",
   "execution_count": 58,
   "id": "8aa95be8",
   "metadata": {},
   "outputs": [
    {
     "data": {
      "text/plain": [
       "<matplotlib.image.AxesImage at 0x23037392c40>"
      ]
     },
     "execution_count": 58,
     "metadata": {},
     "output_type": "execute_result"
    }
   ],
   "source": [
    "#Storing image in img\n",
    "img = cv2.imread('images/car2.jpg')\n",
    "#converting image into grayscale\n",
    "gray = cv2.cvtColor(img, cv2.COLOR_BGR2GRAY)\n",
    "plt.imshow(cv2.cvtColor(gray, cv2.COLOR_BGR2RGB))"
   ]
  },
  {
   "cell_type": "code",
   "execution_count": 59,
   "id": "a2710115",
   "metadata": {},
   "outputs": [
    {
     "data": {
      "text/plain": [
       "<matplotlib.image.AxesImage at 0x2303739ac40>"
      ]
     },
     "execution_count": 59,
     "metadata": {},
     "output_type": "execute_result"
    }
   ],
   "source": [
    "#applying filter to remove noise.\n",
    "bfilter = cv2.bilateralFilter(gray,11,15,15)\n",
    "#applying the edge setection by using canny.\n",
    "#Here 150 is taken as lower thresold value and 200 is taken as upper thresold value\n",
    "edged = cv2.Canny(bfilter, 150, 200)\n",
    "plt.imshow(cv2.cvtColor(edged, cv2.COLOR_BGR2RGB))"
   ]
  },
  {
   "cell_type": "code",
   "execution_count": 45,
   "id": "1f8b7527",
   "metadata": {},
   "outputs": [],
   "source": [
    "#finding the contor\n",
    "keypoints = cv2.findContours(edged.copy(), cv2.RETR_TREE, cv2.CHAIN_APPROX_SIMPLE)\n",
    "contours = imutils.grab_contours(keypoints)\n",
    "#sorting contor on the basis of area\n",
    "contours = sorted(contours, key=cv2.contourArea, reverse=True)[:10]"
   ]
  },
  {
   "cell_type": "code",
   "execution_count": 46,
   "id": "1a9facd7",
   "metadata": {},
   "outputs": [],
   "source": [
    "location = None\n",
    "for contour in contours:\n",
    "    approx = cv2.approxPolyDP(contour, 10, True)\n",
    "     #here the contour is calculated if the length is equal to 4\n",
    "    if len(approx) == 4:\n",
    "        location = approx\n",
    "        break"
   ]
  },
  {
   "cell_type": "code",
   "execution_count": 47,
   "id": "c4dca922",
   "metadata": {},
   "outputs": [
    {
     "name": "stdout",
     "output_type": "stream",
     "text": [
      "[[[204 130]]\n",
      "\n",
      " [[ 63 140]]\n",
      "\n",
      " [[ 86 153]]\n",
      "\n",
      " [[187 152]]]\n"
     ]
    }
   ],
   "source": [
    "location"
   ]
  },
  {
   "cell_type": "code",
   "execution_count": 48,
   "id": "c4bff4c5",
   "metadata": {},
   "outputs": [],
   "source": [
    "mask = np.zeros(gray.shape, np.uint8)\n",
    "new_image = cv2.drawContours(mask, [location], 0, 255, -1)\n",
    "new_image = cv2.bitwise_and(img, img, mask = mask)"
   ]
  },
  {
   "cell_type": "code",
   "execution_count": 49,
   "id": "c98d7e7b",
   "metadata": {},
   "outputs": [
    {
     "data": {
      "text/plain": [
       "<matplotlib.image.AxesImage at 0x23032d86310>"
      ]
     },
     "execution_count": 49,
     "metadata": {},
     "output_type": "execute_result"
    }
   ],
   "source": [
    "#imshow is method used to show image in windows\n",
    "plt.imshow(cv2.cvtColor(new_image, cv2.COLOR_BGR2RGB))"
   ]
  },
  {
   "cell_type": "code",
   "execution_count": null,
   "id": "5d45bad6",
   "metadata": {},
   "outputs": [],
   "source": []
  }
 ],
 "metadata": {
  "kernelspec": {
   "display_name": "Python 3",
   "language": "python",
   "name": "python3"
  },
  "language_info": {
   "codemirror_mode": {
    "name": "ipython",
    "version": 3
   },
   "file_extension": ".py",
   "mimetype": "text/x-python",
   "name": "python",
   "nbconvert_exporter": "python",
   "pygments_lexer": "ipython3",
   "version": "3.8.3"
  }
 },
 "nbformat": 4,
 "nbformat_minor": 5
}
